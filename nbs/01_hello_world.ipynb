{
 "cells": [
  {
   "cell_type": "code",
   "execution_count": null,
   "metadata": {},
   "outputs": [],
   "source": [
    "# |default_exp hello_world\n"
   ]
  },
  {
   "cell_type": "markdown",
   "metadata": {},
   "source": [
    "# Libraries\n"
   ]
  },
  {
   "cell_type": "code",
   "execution_count": null,
   "metadata": {},
   "outputs": [],
   "source": [
    "# |export\n",
    "\n",
    "# standard libs\n",
    "import os\n",
    "import re\n",
    "\n",
    "# Common to template\n",
    "# add into settings.ini, requirements, package name is python-dotenv, for conda build ensure `conda config --add channels conda-forge`\n",
    "import dotenv  # for loading config from .env files, https://pypi.org/project/python-dotenv/\n",
    "import envyaml  # Allows to loads env vars into a yaml file, https://github.com/thesimj/envyaml\n",
    "import fastcore  # To add functionality related to nbdev development, https://github.com/fastai/fastcore/\n",
    "from fastcore import (\n",
    "    test,\n",
    ")\n",
    "from fastcore.script import (\n",
    "    call_parse,\n",
    ")  # for @call_parse, https://fastcore.fast.ai/script\n",
    "import json  # for nicely printing json and yaml\n",
    "from fastcore import test\n",
    "from pathlib import Path #to be able write :Path in cli function\n",
    "\n",
    "# Project specific libraries\n",
    "from orchestration_wf01 import (\n",
    "    core,\n",
    ")"
   ]
  },
  {
   "cell_type": "markdown",
   "metadata": {},
   "source": [
    "# Functions"
   ]
  },
  {
   "cell_type": "markdown",
   "metadata": {},
   "source": [
    "## Test functions: hello to you!\n",
    "\n",
    "These two functions are included here as a simple example, so you have something to run in your brand-new repository. \n",
    "\n",
    "The first function is just your standard \"hello-world\" function. The second function (\"cli\") makes it possible to run the notebook from the command-line, as described in more detail in the tutorial on loop.\n",
    "\n",
    "If your package was initialized correctly, you should have a console-script called \"hello_world\" in the bin-directory of your repository (script name pecified at the top of this notebook, and in your \"settings.ini\" file). \n",
    "\n",
    "If you write \"hello_world --help\" in your terminal, you should get usage information for the script. You will see that the script takes the command-line argument \"--name\". If you write your own name there, the script will greet you. If you dont provide any arguments, the script will take its input from the \"config.default.env\" file and say \"Hello You!\" instead."
   ]
  },
  {
   "cell_type": "code",
   "execution_count": null,
   "metadata": {},
   "outputs": [],
   "source": [
    "# |export\n",
    "def hello_world(name1: str) -> str:\n",
    "    return f\"Hello {name1}!\""
   ]
  },
  {
   "cell_type": "code",
   "execution_count": null,
   "metadata": {},
   "outputs": [],
   "source": [
    "# |export\n",
    "\n",
    "@call_parse\n",
    "def cli(\n",
    "    #Definition of command-line arguments\n",
    "    name: str = None,  # A name\n",
    "    config_file: str = None,  # config file to set env vars from\n",
    ") -> None:\n",
    "    #Set env vars and get config variables\n",
    "    config = core.get_config(config_file)  # Set env vars and get config variables\n",
    "    #Overwrite input default values in the config-file if the user has provided command-line arguments\n",
    "    if name is not None:\n",
    "        config[\"example\"][\"input\"][\"name\"] = name\n",
    "    #Run the hello-world function\n",
    "    print(hello_world(\n",
    "        config[\"example\"][\"input\"][\"name\"],\n",
    "    ))"
   ]
  },
  {
   "cell_type": "code",
   "execution_count": null,
   "metadata": {},
   "outputs": [],
   "source": [
    "# | hide\n",
    "import nbdev\n",
    "\n",
    "nbdev.nbdev_export()"
   ]
  }
 ],
 "metadata": {
  "kernelspec": {
   "display_name": "python3",
   "language": "python",
   "name": "python3"
  }
 },
 "nbformat": 4,
 "nbformat_minor": 2
}
